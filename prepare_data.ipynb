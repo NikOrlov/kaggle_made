{
 "cells": [
  {
   "cell_type": "code",
   "execution_count": 1,
   "id": "09974d86",
   "metadata": {},
   "outputs": [],
   "source": [
    "import lightning as pl\n",
    "import torch\n",
    "from matplotlib import pyplot as plt"
   ]
  },
  {
   "cell_type": "code",
   "execution_count": 2,
   "id": "2977b9e8",
   "metadata": {},
   "outputs": [],
   "source": [
    "from torchvision.transforms import CenterCrop, Compose, Resize, ToTensor"
   ]
  },
  {
   "cell_type": "code",
   "execution_count": 3,
   "id": "a4e06b9e",
   "metadata": {},
   "outputs": [],
   "source": [
    "from torch.utils.data import DataLoader\n",
    "from torchvision.utils import make_grid"
   ]
  },
  {
   "cell_type": "code",
   "execution_count": 4,
   "id": "748510d2",
   "metadata": {},
   "outputs": [],
   "source": [
    "from PIL import Image"
   ]
  },
  {
   "cell_type": "code",
   "execution_count": 5,
   "id": "5f4c0ef8",
   "metadata": {},
   "outputs": [],
   "source": [
    "import os\n",
    "import pandas as pd\n",
    "import numpy as np"
   ]
  },
  {
   "cell_type": "code",
   "execution_count": 6,
   "id": "51a13a14",
   "metadata": {},
   "outputs": [],
   "source": [
    "from tqdm import tqdm"
   ]
  },
  {
   "cell_type": "code",
   "execution_count": 7,
   "id": "34e3b192",
   "metadata": {},
   "outputs": [],
   "source": [
    "IMAGE_SIZE = 448"
   ]
  },
  {
   "cell_type": "code",
   "execution_count": 10,
   "id": "510f4b61",
   "metadata": {},
   "outputs": [],
   "source": [
    "data_dir = \"data\"\n",
    "transform = Compose([Resize(IMAGE_SIZE),\n",
    "                    CenterCrop(IMAGE_SIZE),\n",
    "                    ToTensor()])\n",
    "stage = \"train\""
   ]
  },
  {
   "cell_type": "code",
   "execution_count": 11,
   "id": "389ad11f",
   "metadata": {},
   "outputs": [],
   "source": [
    "os.rename(f'{data_dir}/train.csv', f'{data_dir}/train_raw.csv')\n",
    "os.rename(f'{data_dir}/test.csv', f'{data_dir}/test_raw.csv')"
   ]
  },
  {
   "cell_type": "code",
   "execution_count": 12,
   "id": "589401c4",
   "metadata": {},
   "outputs": [],
   "source": [
    "def clean_data(image_dir, stage):\n",
    "    bads = []\n",
    "    for i, path in enumerate(tqdm(os.listdir(os.path.join(data_dir, image_dir)))):\n",
    "        image = Image.open(os.path.join(data_dir, image_dir, path))\n",
    "        image = np.array(image)\n",
    "        shape = image.shape\n",
    "        if len(shape) != 3 or shape[-1] != 3:\n",
    "            bads.append(path)\n",
    "            \n",
    "    df = pd.read_csv(os.path.join(data_dir, f'{stage}_raw.csv'))\n",
    "    df[df['image_id'].isin(bads)].to_csv(os.path.join(data_dir, f'{stage}_bads.csv'), index=None)\n",
    "    df[~df['image_id'].isin(bads)].to_csv(os.path.join(data_dir, f'{stage}.csv'), index=None)\n",
    "    print(f'Stage: {stage}, bad files num = {len(bads)}')"
   ]
  },
  {
   "cell_type": "code",
   "execution_count": 13,
   "id": "66be71f6",
   "metadata": {},
   "outputs": [
    {
     "name": "stderr",
     "output_type": "stream",
     "text": [
      "100%|██████████████████████████████████████████████████████████████████████████████████████████████████████████████████████████████████████| 45373/45373 [01:20<00:00, 563.66it/s]\n"
     ]
    },
    {
     "name": "stdout",
     "output_type": "stream",
     "text": [
      "Stage: train, bad files num = 110\n"
     ]
    },
    {
     "name": "stderr",
     "output_type": "stream",
     "text": [
      "100%|██████████████████████████████████████████████████████████████████████████████████████████████████████████████████████████████████████| 19446/19446 [00:34<00:00, 565.09it/s]\n"
     ]
    },
    {
     "name": "stdout",
     "output_type": "stream",
     "text": [
      "Stage: test, bad files num = 41\n"
     ]
    }
   ],
   "source": [
    "clean_data('train', 'train')\n",
    "clean_data('test', 'test')"
   ]
  },
  {
   "cell_type": "code",
   "execution_count": null,
   "id": "dd87af93",
   "metadata": {},
   "outputs": [],
   "source": []
  }
 ],
 "metadata": {
  "kernelspec": {
   "display_name": "Python 3 (ipykernel)",
   "language": "python",
   "name": "python3"
  },
  "language_info": {
   "codemirror_mode": {
    "name": "ipython",
    "version": 3
   },
   "file_extension": ".py",
   "mimetype": "text/x-python",
   "name": "python",
   "nbconvert_exporter": "python",
   "pygments_lexer": "ipython3",
   "version": "3.9.16"
  }
 },
 "nbformat": 4,
 "nbformat_minor": 5
}
